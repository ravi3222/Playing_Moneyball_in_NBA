{
 "cells": [
  {
   "cell_type": "markdown",
   "metadata": {},
   "source": [
    "# National Basketball Association (NBA) Dataset\n"
   ]
  },
  {
   "cell_type": "markdown",
   "metadata": {},
   "source": [
    "# Loading the data"
   ]
  },
  {
   "cell_type": "code",
   "execution_count": 62,
   "metadata": {},
   "outputs": [],
   "source": [
    "NBA = read.csv(\"C:/Users/Ravi/Downloads/Downloads/NBA_train.csv\")"
   ]
  },
  {
   "cell_type": "code",
   "execution_count": null,
   "metadata": {
    "scrolled": true
   },
   "outputs": [],
   "source": [
    "#Now let’s look at the structure and summary of the data\n",
    "str(NBA)"
   ]
  },
  {
   "cell_type": "code",
   "execution_count": null,
   "metadata": {
    "scrolled": false
   },
   "outputs": [],
   "source": [
    "summary(NBA)"
   ]
  },
  {
   "cell_type": "markdown",
   "metadata": {},
   "source": [
    "So here The goal of a basketball team is making the playoffs."
   ]
  },
  {
   "cell_type": "code",
   "execution_count": null,
   "metadata": {
    "scrolled": true
   },
   "outputs": [],
   "source": [
    "# How many wins to make the playoffs?\n",
    "table(NBA$W, NBA$Playoffs)\n",
    " "
   ]
  },
  {
   "cell_type": "raw",
   "metadata": {},
   "source": [
    "we can see that a team who wins 35 games or fewer almost never makes it to the playoffs. And a team who wins 45 games almost always make it to the playoffs."
   ]
  },
  {
   "cell_type": "markdown",
   "metadata": {},
   "source": [
    "### Adding Additional Variables into the dataset\n",
    "\n",
    "\n",
    "Now we will add a variable that is the difference between points scored and points allowed.\n",
    "\n"
   ]
  },
  {
   "cell_type": "code",
   "execution_count": null,
   "metadata": {},
   "outputs": [],
   "source": [
    "# Compute Points Difference\n",
    "NBA$PTSdiff = NBA$PTS - NBA$oppPTS\n",
    "\n",
    "# Check for linear relationship\n",
    "plot(NBA$PTSdiff, NBA$W, xlab=\"Points Difference\",ylab=\"Wins\",col=\"blue\",main=\"PTSdiff vs Wins\")"
   ]
  },
  {
   "cell_type": "markdown",
   "metadata": {},
   "source": [
    "From the graph we can clearly see that there’s an incredibly strong linear relationship between these two variables. So it seems like linear regression is going to be a good way to predict how many wins a team will have given the point difference."
   ]
  },
  {
   "cell_type": "code",
   "execution_count": null,
   "metadata": {},
   "outputs": [],
   "source": [
    "# Linear regression model for wins\n",
    "WinsReg = lm(W ~ PTSdiff, data=NBA)\n",
    "summary(WinsReg)"
   ]
  },
  {
   "cell_type": "markdown",
   "metadata": {},
   "source": [
    "From the summary we notice that we’ve got very significant variables over here. And an R squared of 0.9423, which is very high."
   ]
  },
  {
   "cell_type": "markdown",
   "metadata": {},
   "source": [
    "### Regression Equation                      \n",
    "                  \n",
    " *W* = 41 + 0.0326 ** PTSdiff*\n",
    "\n",
    "So we saw earlier with the table that a team would want to win about at least 42 games in order to have a good chance of making it to the playoffs. So what does this mean in terms of their points difference? If we want this to be greater than or equal to 42, that means that the PTSdiff would need to be greater than or equal to 42 minus 41 divided by 0.0326. So if we actually do that calculation, we see that this is equal to 30.67. So we need to score at least 31 more points than we allow in order to win at least 42 games."
   ]
  },
  {
   "cell_type": "markdown",
   "metadata": {},
   "source": [
    "### Linear Regression Model For Points Scored\n",
    "Now let’s build an equation to predict points scored using some common basketball statistics.\n",
    "\n",
    "Understanding the variables of the dataset, X2PA for two-point attempts, X3PA for three-point attempts, FTA for free throw attempts, AST for assists, ORB offensive rebounds, DRB for defensive rebounds, TOV for turnovers, STL for steals and BLK for blocks."
   ]
  },
  {
   "cell_type": "code",
   "execution_count": null,
   "metadata": {},
   "outputs": [],
   "source": [
    "# Linear regression model for points scored\n",
    "PointsReg = lm(PTS ~ X2PA + X3PA + FTA + AST + ORB + DRB + TOV + STL + BLK, data=NBA)\n",
    "summary(PointsReg)"
   ]
  },
  {
   "cell_type": "markdown",
   "metadata": {},
   "source": [
    "If we take a look at the summary, we can see that some of our variables are indeed very significant. Others are less significant. For example, steals only has one significance star. And some don’t seem to be significant at all. For example, defensive rebounds, turnovers, and blocks. We do have a pretty good R-squared value, 0.8992, so it shows that there really is a linear relationship between points and all of these basketball statistics.\n",
    "\n",
    "### Sum of Squared Errors"
   ]
  },
  {
   "cell_type": "code",
   "execution_count": null,
   "metadata": {},
   "outputs": [],
   "source": [
    "PointsReg$residuals\n",
    "SSE = sum(PointsReg$residuals^2)\n",
    "print(SSE)"
   ]
  },
  {
   "cell_type": "markdown",
   "metadata": {},
   "source": [
    "SSE is quite a lot here 28,394,314. So the sum of squared errors number is not really a very interpretable quantity."
   ]
  },
  {
   "cell_type": "markdown",
   "metadata": {},
   "source": [
    "### Root Mean Squared Error\n",
    "Root Mean Squared Error is much more interpretable. It’s more like the average error we make in our predictions. let’s calculate it here."
   ]
  },
  {
   "cell_type": "code",
   "execution_count": null,
   "metadata": {},
   "outputs": [],
   "source": [
    "RMSE = sqrt(SSE/nrow(NBA))\n",
    "print(RMSE)"
   ]
  },
  {
   "cell_type": "code",
   "execution_count": null,
   "metadata": {
    "scrolled": true
   },
   "outputs": [],
   "source": [
    "# Average number of points in a season\n",
    "print(mean(NBA$PTS))"
   ]
  },
  {
   "cell_type": "markdown",
   "metadata": {},
   "source": [
    "RMSE in our case is 184.4. which makes much more sense. Because mean value is too high with respect to RMSE value."
   ]
  },
  {
   "cell_type": "markdown",
   "metadata": {},
   "source": [
    "### Removing Insignifcant Variables\n",
    "Now lets remove some of the insignificant variables one at a time.\n",
    "\n",
    "If we see the summary of our previous model, we can see that turnovers is not so significant so we can remove it from our model, because it’s p value is much higher 0.6859."
   ]
  },
  {
   "cell_type": "code",
   "execution_count": null,
   "metadata": {},
   "outputs": [],
   "source": [
    "summary(PointsReg)"
   ]
  },
  {
   "cell_type": "code",
   "execution_count": null,
   "metadata": {},
   "outputs": [],
   "source": [
    "PointsReg2 = lm(PTS ~ X2PA + X3PA + FTA + AST + ORB + DRB + STL + BLK, data=NBA)\n",
    "summary(PointsReg2)"
   ]
  },
  {
   "cell_type": "markdown",
   "metadata": {},
   "source": [
    "So in our first regression model PointsReg, we had an R-squared of 0.8992. And R-squared of PointsReg2 is 0.8991. So almost exactly identical.\n",
    "\n",
    "So there is no loss in removing the turnover variable.\n",
    "\n",
    "Now we will remove defensive rebounds on the basis of higher p value after turnovers."
   ]
  },
  {
   "cell_type": "code",
   "execution_count": null,
   "metadata": {},
   "outputs": [],
   "source": [
    "PointsReg3 = lm(PTS ~ X2PA + X3PA + FTA + AST + ORB + STL + BLK, data=NBA)\n",
    "summary(PointsReg3)"
   ]
  },
  {
   "cell_type": "markdown",
   "metadata": {},
   "source": [
    "Let’s look at the summary again to see if the R-squared has changed. And it’s the same, it’s 0.8991. we also justified removing defensive rebounds.\n",
    "\n",
    "Now we will remove blocks on the basis of higher p value after defensive rebounds."
   ]
  },
  {
   "cell_type": "code",
   "execution_count": null,
   "metadata": {},
   "outputs": [],
   "source": [
    "PointsReg4 = lm(PTS ~ X2PA + X3PA + FTA + AST + ORB + STL, data=NBA)\n",
    "summary(PointsReg4)"
   ]
  },
  {
   "cell_type": "markdown",
   "metadata": {},
   "source": [
    "So doing this R-squared value stayed the same but our model became much simpler with respect to our first model. Because we removed all the insignificant variables.\n",
    "\n",
    "Now lets Compute SSE and RMSE for new model"
   ]
  },
  {
   "cell_type": "code",
   "execution_count": null,
   "metadata": {},
   "outputs": [],
   "source": [
    "# Compute SSE and RMSE for new model\n",
    "SSE_4 = sum(PointsReg4$residuals^2)\n",
    "RMSE_4 = sqrt(SSE_4/nrow(NBA))\n",
    "print(SSE_4)"
   ]
  },
  {
   "cell_type": "code",
   "execution_count": null,
   "metadata": {},
   "outputs": [],
   "source": [
    "print(RMSE_4)"
   ]
  },
  {
   "cell_type": "markdown",
   "metadata": {},
   "source": [
    "If we look at the SSE and RMSE of our new model we can see that the values of them increased slightly but we wouldn’t mind that because our model became much more simpler and we Refrained from the over fitting also."
   ]
  },
  {
   "cell_type": "markdown",
   "metadata": {},
   "source": [
    "### Load Test Data\n",
    "Let’s load the NBA_test data, on which we will apply our prediction model and will try to predict points scored correctly."
   ]
  },
  {
   "cell_type": "code",
   "execution_count": null,
   "metadata": {},
   "outputs": [],
   "source": [
    "NBA_test = read.csv(\"C:/Users/Ravi/Downloads/Downloads/NBA_test.csv\")"
   ]
  },
  {
   "cell_type": "markdown",
   "metadata": {},
   "source": [
    "Make predictions on test set by applying regression model build previously.\n",
    "\n"
   ]
  },
  {
   "cell_type": "code",
   "execution_count": null,
   "metadata": {},
   "outputs": [],
   "source": [
    "PointsPredictions = predict(PointsReg4, newdata=NBA_test)"
   ]
  },
  {
   "cell_type": "markdown",
   "metadata": {},
   "source": [
    "The actual test of the accuracy of our model will be on new data set. So let’s find out the SSE and RMSE of our model on the test data set."
   ]
  },
  {
   "cell_type": "code",
   "execution_count": null,
   "metadata": {},
   "outputs": [],
   "source": [
    "SSE = sum((PointsPredictions - NBA_test$PTS)^2)\n",
    "SST = sum((mean(NBA$PTS) - NBA_test$PTS)^2)\n",
    "R2 = 1 - SSE/SST\n",
    "R2"
   ]
  },
  {
   "cell_type": "markdown",
   "metadata": {},
   "source": [
    "### Compute the RMSE"
   ]
  },
  {
   "cell_type": "code",
   "execution_count": null,
   "metadata": {},
   "outputs": [],
   "source": [
    "RMSE = sqrt(SSE/nrow(NBA_test))\n",
    "RMSE"
   ]
  },
  {
   "cell_type": "markdown",
   "metadata": {},
   "source": [
    "We see that we have an R-squared value of 0.8127. and root mean squared error here is 196.37. So it’s a little bit higher than before. But it’s not too bad. Because mean of points is 8370. And We’re making an average error of about 196 points."
   ]
  },
  {
   "cell_type": "raw",
   "metadata": {},
   "source": []
  }
 ],
 "metadata": {
  "kernelspec": {
   "display_name": "R",
   "language": "R",
   "name": "ir"
  },
  "language_info": {
   "codemirror_mode": "r",
   "file_extension": ".r",
   "mimetype": "text/x-r-source",
   "name": "R",
   "pygments_lexer": "r",
   "version": "3.4.2"
  }
 },
 "nbformat": 4,
 "nbformat_minor": 2
}
